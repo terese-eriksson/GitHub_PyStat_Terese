{
 "cells": [
  {
   "cell_type": "markdown",
   "id": "dacf74e6",
   "metadata": {},
   "source": [
    "# NumPy"
   ]
  },
  {
   "cell_type": "markdown",
   "id": "01b2bf34",
   "metadata": {},
   "source": [
    "Read the links: https://numpy.org/doc/stable/user/quickstart.html  and https://numpy.org/doc/stable/user/basics.broadcasting.html  before solving the exercises. "
   ]
  },
  {
   "cell_type": "code",
   "execution_count": 1,
   "id": "1f79e4a6",
   "metadata": {},
   "outputs": [],
   "source": [
    "import numpy as np"
   ]
  },
  {
   "cell_type": "markdown",
   "id": "7dae6889",
   "metadata": {},
   "source": [
    "### Print out the dimension (number of axes), shape, size and the datatype of the matrix A."
   ]
  },
  {
   "cell_type": "code",
   "execution_count": 83,
   "id": "7b3678cd",
   "metadata": {},
   "outputs": [
    {
     "data": {
      "text/plain": [
       "array([[ 1,  2,  3,  4,  5],\n",
       "       [ 6,  7,  8,  9, 10],\n",
       "       [11, 12, 13, 14, 15]])"
      ]
     },
     "execution_count": 83,
     "metadata": {},
     "output_type": "execute_result"
    }
   ],
   "source": [
    "A = np.arange(1, 16).reshape(3,5)\n",
    "A"
   ]
  },
  {
   "cell_type": "code",
   "execution_count": 165,
   "id": "31d39235",
   "metadata": {},
   "outputs": [
    {
     "name": "stdout",
     "output_type": "stream",
     "text": [
      "Nr of Axes: 2\n",
      "Shape: (2, 2)\n",
      "Size: 4\n",
      "Datatype: <class 'numpy.ndarray'>\n"
     ]
    }
   ],
   "source": [
    "print(f\"Nr of Axes: {np.ndim(A)}\")\n",
    "print(f\"Shape: {np.shape(A)}\")\n",
    "print(f\"Size: {np.size(A)}\")\n",
    "print(f\"Datatype: {type(A)}\")"
   ]
  },
  {
   "cell_type": "markdown",
   "id": "e56d2a96",
   "metadata": {},
   "source": [
    "### Do the following computations on the matrices B and C: \n",
    "* Elementwise subtraction. \n",
    "* Elementwise multiplication. \n",
    "* Matrix multiplication (by default you should use the @ operator)."
   ]
  },
  {
   "cell_type": "code",
   "execution_count": 170,
   "id": "a7053fbb",
   "metadata": {},
   "outputs": [
    {
     "name": "stdout",
     "output_type": "stream",
     "text": [
      "[[1 2 3]\n",
      " [4 5 6]\n",
      " [7 8 9]]\n",
      "\n",
      "[[2. 2. 2.]\n",
      " [2. 2. 2.]\n",
      " [2. 2. 2.]]\n"
     ]
    }
   ],
   "source": [
    "B = np.arange(1, 10).reshape(3, 3)\n",
    "C = np.ones((3, 3))*2\n",
    "\n",
    "print(B)\n",
    "print()\n",
    "print(C)"
   ]
  },
  {
   "cell_type": "code",
   "execution_count": 171,
   "id": "3cd794ae",
   "metadata": {},
   "outputs": [
    {
     "name": "stdout",
     "output_type": "stream",
     "text": [
      "B - C:\n",
      "[[-1.  0.  1.]\n",
      " [ 2.  3.  4.]\n",
      " [ 5.  6.  7.]]\n",
      "\n",
      "B * C:\n",
      "[[ 2.  4.  6.]\n",
      " [ 8. 10. 12.]\n",
      " [14. 16. 18.]]\n",
      "\n",
      "B @ C:\n",
      "[[12. 12. 12.]\n",
      " [30. 30. 30.]\n",
      " [48. 48. 48.]]\n"
     ]
    }
   ],
   "source": [
    "print(f\"B - C:\\n{B-C}\")\n",
    "print()\n",
    "print(f\"B * C:\\n{B*C}\")\n",
    "print()\n",
    "print(f\"B @ C:\\n{B@C}\")"
   ]
  },
  {
   "cell_type": "markdown",
   "id": "96030d53",
   "metadata": {},
   "source": [
    "### Do the following calculations on the matrix:\n",
    "* Exponentiate each number elementwise (use the np.exp function).\n",
    "\n",
    "* Calculate the minimum value in the whole matrix. \n",
    "* Calculcate the minimum value in each row. \n",
    "* Calculcate the minimum value in each column. \n",
    "\n",
    "\n",
    "* Find the index value for the minimum value in the whole matrix (hint: use np.argmin).\n",
    "* Find the index value for the minimum value in each row (hint: use np.argmin).\n",
    "\n",
    "\n",
    "* Calculate the sum for all elements.\n",
    "* Calculate the mean for each column. \n",
    "* Calculate the median for each column. "
   ]
  },
  {
   "cell_type": "code",
   "execution_count": 20,
   "id": "f8a9166b",
   "metadata": {},
   "outputs": [
    {
     "name": "stdout",
     "output_type": "stream",
     "text": [
      "[[1 2 3]\n",
      " [4 5 6]\n",
      " [7 8 9]]\n"
     ]
    }
   ],
   "source": [
    "B = np.arange(1, 10).reshape(3, 3)\n",
    "print(B)"
   ]
  },
  {
   "cell_type": "code",
   "execution_count": 183,
   "id": "f03f24f7",
   "metadata": {},
   "outputs": [
    {
     "name": "stdout",
     "output_type": "stream",
     "text": [
      "Exponatiate each number:\n",
      " [[2.71828183e+00 7.38905610e+00 2.00855369e+01]\n",
      " [5.45981500e+01 1.48413159e+02 4.03428793e+02]\n",
      " [1.09663316e+03 2.98095799e+03 8.10308393e+03]]\n",
      "\n",
      "Min-value matrix: 1\n",
      "Min-value each row: [1 4 7]\n",
      "Min-value each column: [1 2 3]\n",
      "Index-value for min-value matrix: 0\n",
      "Index-value for min-value each row: [0 0 0]\n",
      "Sum of all elements: 45\n",
      "Mean of all elements: 5.0\n",
      "Median of all elements: 5.0\n"
     ]
    }
   ],
   "source": [
    "print(f\"Exponatiate each number:\\n {np.exp(B)}\")\n",
    "print()\n",
    "print(f\"Min-value matrix: {np.min(B)}\")\n",
    "print(f\"Min-value each row: {np.min(B, axis=1)}\")\n",
    "print(f\"Min-value each column: {np.min(B, axis=0)}\")\n",
    "print(f\"Index-value for min-value matrix: {np.argmin(B)}\")\n",
    "print(f\"Index-value for min-value each row: {np.argmin(B, axis=1)}\")\n",
    "print(f\"Sum of all elements: {np.sum(B)}\")\n",
    "print(f\"Mean of all elements: {np.mean(B)}\")\n",
    "print(f\"Median of all elements: {np.median(B)}\")"
   ]
  },
  {
   "cell_type": "markdown",
   "id": "541eb7ba",
   "metadata": {},
   "source": [
    "### What does it mean when you provide fewer indices than axes when slicing? See example below."
   ]
  },
  {
   "cell_type": "code",
   "execution_count": 40,
   "id": "9c8abf56",
   "metadata": {},
   "outputs": [
    {
     "name": "stdout",
     "output_type": "stream",
     "text": [
      "[[ 1  2  3  4  5]\n",
      " [ 6  7  8  9 10]\n",
      " [11 12 13 14 15]]\n"
     ]
    }
   ],
   "source": [
    "print(A)"
   ]
  },
  {
   "cell_type": "code",
   "execution_count": 41,
   "id": "69415f7b",
   "metadata": {},
   "outputs": [
    {
     "data": {
      "text/plain": [
       "array([ 6,  7,  8,  9, 10])"
      ]
     },
     "execution_count": 41,
     "metadata": {},
     "output_type": "execute_result"
    }
   ],
   "source": [
    "A[1]"
   ]
  },
  {
   "cell_type": "code",
   "execution_count": 42,
   "id": "edbee79a",
   "metadata": {},
   "outputs": [
    {
     "data": {
      "text/plain": [
       "array([ 6,  7,  8,  9, 10])"
      ]
     },
     "execution_count": 42,
     "metadata": {},
     "output_type": "execute_result"
    }
   ],
   "source": [
    "A[1, :]"
   ]
  },
  {
   "cell_type": "code",
   "execution_count": 43,
   "id": "2d6d1e47",
   "metadata": {},
   "outputs": [
    {
     "data": {
      "text/plain": [
       "array([ 6,  7,  8,  9, 10])"
      ]
     },
     "execution_count": 43,
     "metadata": {},
     "output_type": "execute_result"
    }
   ],
   "source": [
    "A[1, ]"
   ]
  },
  {
   "cell_type": "markdown",
   "id": "6c53541b",
   "metadata": {},
   "source": [
    "**Answer:**"
   ]
  },
  {
   "cell_type": "markdown",
   "id": "596b3e44",
   "metadata": {},
   "source": [
    "If fewer indicies than axes are provided, the missing indices are considered complete slices :."
   ]
  },
  {
   "cell_type": "markdown",
   "id": "6652d0c9",
   "metadata": {},
   "source": [
    "### Iterating over multidimensional arrays is done with respect to the first axis, so in the example below we iterate trough the rows. If you would like to iterate through the array *elementwise*, how would you do that?"
   ]
  },
  {
   "cell_type": "code",
   "execution_count": 44,
   "id": "9459864f",
   "metadata": {},
   "outputs": [
    {
     "data": {
      "text/plain": [
       "array([[ 1,  2,  3,  4,  5],\n",
       "       [ 6,  7,  8,  9, 10],\n",
       "       [11, 12, 13, 14, 15]])"
      ]
     },
     "execution_count": 44,
     "metadata": {},
     "output_type": "execute_result"
    }
   ],
   "source": [
    "A"
   ]
  },
  {
   "cell_type": "code",
   "execution_count": 45,
   "id": "a671bb5a",
   "metadata": {},
   "outputs": [
    {
     "name": "stdout",
     "output_type": "stream",
     "text": [
      "[1 2 3 4 5]\n",
      "[ 6  7  8  9 10]\n",
      "[11 12 13 14 15]\n"
     ]
    }
   ],
   "source": [
    "for i in A:\n",
    "    print(i)"
   ]
  },
  {
   "cell_type": "code",
   "execution_count": 48,
   "id": "f4e443a0",
   "metadata": {},
   "outputs": [
    {
     "name": "stdout",
     "output_type": "stream",
     "text": [
      "1\n",
      "2\n",
      "3\n",
      "4\n",
      "5\n",
      "6\n",
      "7\n",
      "8\n",
      "9\n",
      "10\n",
      "11\n",
      "12\n",
      "13\n",
      "14\n",
      "15\n"
     ]
    }
   ],
   "source": [
    "for i in A:\n",
    "    for j in i:\n",
    "        print(j)\n",
    "        \n",
    "# Works good for two dimensions, but will be very tedious for multiple dimensions. Use nditer() as shown in next codeblock preferably. "
   ]
  },
  {
   "cell_type": "code",
   "execution_count": 49,
   "id": "d2f328a4",
   "metadata": {},
   "outputs": [
    {
     "name": "stdout",
     "output_type": "stream",
     "text": [
      "1\n",
      "2\n",
      "3\n",
      "4\n",
      "5\n",
      "6\n",
      "7\n",
      "8\n",
      "9\n",
      "10\n",
      "11\n",
      "12\n",
      "13\n",
      "14\n",
      "15\n"
     ]
    }
   ],
   "source": [
    "for i in np.nditer(A):\n",
    "    print(i)"
   ]
  },
  {
   "cell_type": "markdown",
   "id": "608a2583",
   "metadata": {},
   "source": [
    "### Explain what the code below does. More specifically, b has three axes - what does this mean? "
   ]
  },
  {
   "cell_type": "code",
   "execution_count": 50,
   "id": "f8f9b26f",
   "metadata": {},
   "outputs": [
    {
     "name": "stdout",
     "output_type": "stream",
     "text": [
      "[ 0  1  2  3  4  5  6  7  8  9 10 11 12 13 14 15 16 17 18 19 20 21 22 23\n",
      " 24 25 26 27 28 29]\n",
      "\n",
      "[[[ 0  1  2  3  4]\n",
      "  [ 5  6  7  8  9]\n",
      "  [10 11 12 13 14]]\n",
      "\n",
      " [[15 16 17 18 19]\n",
      "  [20 21 22 23 24]\n",
      "  [25 26 27 28 29]]]\n"
     ]
    }
   ],
   "source": [
    "a = np.arange(30)\n",
    "b = a.reshape((2, 3, -1))\n",
    "print(a)\n",
    "print()\n",
    "\n",
    "print(b)"
   ]
  },
  {
   "cell_type": "markdown",
   "id": "6e95faf5",
   "metadata": {},
   "source": [
    "1: Creates a 1-dimensional array a with number 0-29. \n",
    "2: Creates a 3-dimensional (3 axes) array by reshaping array a. The array consist of 2 blocks, with 3 rows each. The -1 means the python will create as many columns as necessary to complete the array. \n",
    "3: a och b are printed. Note the the .reshape()-function returns a modified array, which we store in b, but will not change the original array a!"
   ]
  },
  {
   "cell_type": "markdown",
   "id": "ab5933d5",
   "metadata": {},
   "source": [
    "### Broadcasting\n",
    "**Read the following link about broadcasting: https://numpy.org/doc/stable/user/basics.broadcasting.html#basics-broadcasting**"
   ]
  },
  {
   "cell_type": "markdown",
   "id": "039805ba",
   "metadata": {},
   "source": [
    "# Remark on Broadcasting when doing Linear Algebra calculations in Python. "
   ]
  },
  {
   "cell_type": "markdown",
   "id": "c4bcc147",
   "metadata": {},
   "source": [
    "### From the mathematical rules of matrix addition, the operation below (m1 + m2) does not make sense. The reason is that matrix addition requires two matrices of the same size. In Python however, it works due to broadcasting rules in NumPy. So you must be careful when doing Linear Algebra calculations in Python since they do not follow the \"mathematical rules\". This can however easily be handled by doing some simple programming, for example validating that two matrices have the same shape is easy if you for instance want to add two matrices. "
   ]
  },
  {
   "cell_type": "code",
   "execution_count": 51,
   "id": "1fd46778",
   "metadata": {},
   "outputs": [
    {
     "name": "stdout",
     "output_type": "stream",
     "text": [
      "[[2 3]\n",
      " [4 5]]\n"
     ]
    }
   ],
   "source": [
    "m1 = np.array([[1, 2], [3, 4]])\n",
    "m2 = np.array([1, 1])\n",
    "print(m1 + m2)"
   ]
  },
  {
   "cell_type": "markdown",
   "id": "047d6576",
   "metadata": {},
   "source": [
    "### The example below would also not be allowed if following the \"mathematical rules\" in Linear Algebra. But it works due to broadcasting in NumPy. "
   ]
  },
  {
   "cell_type": "code",
   "execution_count": 52,
   "id": "5e6ef2e4",
   "metadata": {},
   "outputs": [
    {
     "name": "stdout",
     "output_type": "stream",
     "text": [
      "[2 3 4]\n"
     ]
    }
   ],
   "source": [
    "v1 = np.array([1, 2, 3])\n",
    "print(v1 + 1)"
   ]
  },
  {
   "cell_type": "code",
   "execution_count": 53,
   "id": "e2cbae26",
   "metadata": {},
   "outputs": [
    {
     "name": "stdout",
     "output_type": "stream",
     "text": [
      "[[1 2]\n",
      " [3 4]]\n",
      "[2 2]\n"
     ]
    }
   ],
   "source": [
    "A = np.arange(1, 5).reshape(2,2)\n",
    "print(A)\n",
    "\n",
    "b = np.array([2, 2])\n",
    "print(b)"
   ]
  },
  {
   "cell_type": "markdown",
   "id": "722fd5cd",
   "metadata": {},
   "source": [
    "# Vector- and matrix algebra Exercises"
   ]
  },
  {
   "cell_type": "markdown",
   "id": "b63a3081-d976-4d9f-bfd0-a63917e79f7d",
   "metadata": {},
   "source": [
    "**Now you are going to create a function that can be reused every time you add or multiply matrices. The function is created so that we do the addition and multiplication according to the rules of vector- and matrix algebra.**\n",
    "\n",
    "**Create a function \"add_mult_matrices\" that takes two matrices as input arguments (validate that the input are of the type numpy.ndarray by using the isinstance function), a third argument that is either 'add' or 'multiply' that specifies if you want to add or multiply the matrices (validate that the third argument is either 'add' or 'multiply'). When doing matrix addition, validate that the matrices have the same size. When doing matrix multiplication, validate that the sizes conform (i.e. number of columns in the first matrix is equal to the number of rows in the second matrix).**"
   ]
  },
  {
   "cell_type": "code",
   "execution_count": 249,
   "id": "3506f977-ac0a-473f-85bc-eec9f35dc498",
   "metadata": {},
   "outputs": [
    {
     "data": {
      "text/plain": [
       "array([[48, 54, 60]])"
      ]
     },
     "execution_count": 249,
     "metadata": {},
     "output_type": "execute_result"
    }
   ],
   "source": [
    "def add_mult_matrices(arr1, arr2, operator):\n",
    "    isArray = isinstance(arr1, np.ndarray) and isinstance(arr2, np.ndarray)\n",
    "    isOperator = operator == \"add\" or operator == \"multiply\"\n",
    "    \n",
    "    if isArray and isOperator:\n",
    "        if operator == \"add\":\n",
    "            if np.shape(arr1) == np.shape(arr2):\n",
    "                return arr1 + arr2\n",
    "            else:\n",
    "                print(\"When doing matrix addition, the two matrices needs to have the same dimensions.\")\n",
    "        elif operator == \"multiply\":\n",
    "            if arr1.ndim == 1:\n",
    "                arr1 = arr1.reshape(1, -1)\n",
    "            if arr2.ndim == 1: \n",
    "                arr2 = arr2.reshape(1, -1)\n",
    "            \n",
    "            if arr1.shape[1] == arr2.shape[0]: \n",
    "                return arr1 @ arr2\n",
    "            else: \n",
    "                print(\"When doing matrix multiplication, the first matrix needs to have as many columns as the second matrix have rows.\")\n",
    "    else:\n",
    "        print(\"You must give two numpy arrays and 'add' or 'multiply' as arguments.\") \n",
    "        \n",
    "        \n",
    "            \n",
    "arr1 = np.array([1, 2, 3])\n",
    "arr2 = np.array([[4, 5, 6,], [7, 8, 9], [10, 11, 12]])\n",
    "\n",
    "add_mult_matrices(arr1, arr2, \"multiply\")"
   ]
  },
  {
   "cell_type": "markdown",
   "id": "8dad82d0-2359-4dff-8f5b-a57d3e34103c",
   "metadata": {},
   "source": [
    "### Solve all the exercises in chapter 10.1 in the book \"Matematik för yrkeshögskolan\". "
   ]
  },
  {
   "cell_type": "code",
   "execution_count": 241,
   "id": "89df88af-3668-4d98-a0a4-e6d92eea0f89",
   "metadata": {},
   "outputs": [
    {
     "name": "stdout",
     "output_type": "stream",
     "text": [
      "10.1.1\n",
      "a: (1, 2)\n",
      "b: [20 15]\n",
      "c: [12  9]\n",
      "d: [8 6]\n",
      "e: [32 24]\n",
      "f: [12  9]\n",
      "g:\n",
      " [[4]\n",
      " [3]], (2, 1)\n",
      "h: Not defined\n",
      "i: 5.0\n",
      "\n",
      "\n",
      "10.1.2\n",
      "a: (4, 1)\n",
      "b:\n",
      " [[ 6]\n",
      " [14]\n",
      " [ 0]\n",
      " [22]]\n",
      "c:\n",
      " [[21]\n",
      " [49]\n",
      " [ 0]\n",
      " [77]]\n",
      "d:\n",
      " [[ 6]\n",
      " [14]\n",
      " [ 0]\n",
      " [22]]\n",
      "e:\n",
      " [[ 3  7  0 11]], (1, 4)\n",
      "f: 13.379088160259652\n",
      "\n",
      "\n",
      "10.1.3\n",
      "a: 7.14142842854285\n",
      "b: 4.47213595499958\n"
     ]
    }
   ],
   "source": [
    "## 10.1.1\n",
    "print(\"10.1.1\")\n",
    "\n",
    "x = np.array([4, 3])\n",
    "\n",
    "# a \n",
    "x_reshape = x.reshape(1, -1) # HUR HANTERA DETTA ????? \n",
    "print(f\"a: {np.shape(x_reshape)}\")\n",
    "\n",
    "# b\n",
    "print(f\"b: {5 * x}\")\n",
    "\n",
    "# c\n",
    "print(f\"c: {3 * x}\")\n",
    "\n",
    "# d\n",
    "print(f\"d: {5*x - 3*x}\")\n",
    "\n",
    "# e\n",
    "print(f\"e: {8 * x}\")\n",
    "\n",
    "# f\n",
    "print(f\"f: {4*x - x}\")\n",
    "\n",
    "# g\n",
    "# np.transpose(x) has no effect because it is not a matrix/has only 1 D\n",
    "x_transpose = x.reshape(-1, 1)\n",
    "print(f\"g:\\n {x_transpose}, {np.shape(x_transpose)}\")\n",
    "\n",
    "# h Not defined due to different shapes.\n",
    "print(\"h: Not defined\") \n",
    "\n",
    "# i\n",
    "print(f\"i: {np.linalg.norm(x)}\")\n",
    "\n",
    "print(\"\\n\")\n",
    "## 10.1.2\n",
    "print(\"10.1.2\")\n",
    "\n",
    "v = np.array([3, 7, 0, 11]).reshape(-1, 1)\n",
    "\n",
    "# a \n",
    "print(f\"a: {np.shape(v)}\")\n",
    "\n",
    "# b \n",
    "print(f\"b:\\n {2 * v}\")\n",
    "\n",
    "# c\n",
    "print(f\"c:\\n {5*v + 2*v}\")\n",
    "\n",
    "# d\n",
    "print(f\"d:\\n {4*v - 2*v}\")\n",
    "\n",
    "# e\n",
    "v_transpose = np.transpose(v)\n",
    "print(f\"e:\\n {v_transpose}, {np.shape(v_transpose)}\")\n",
    "\n",
    "# f\n",
    "print(f\"f: {np.linalg.norm(v)}\")\n",
    "\n",
    "print(\"\\n\")\n",
    "## 10.1.3 \n",
    "print(\"10.1.3\")\n",
    "\n",
    "v1 = np.array([4, 3, 1, 5])\n",
    "v2 = np.array([2, 3, 1, 1])\n",
    "\n",
    "# a \n",
    "print(f\"a: {np.linalg.norm(v1)}\")\n",
    "\n",
    "# b\n",
    "print(f\"b: {np.linalg.norm(v1-v2)}\")"
   ]
  },
  {
   "cell_type": "markdown",
   "id": "75c98984-1f88-4df1-b850-d2466de444a5",
   "metadata": {},
   "source": [
    "### Solve all the exercises, except 10.2.4, in chapter 10.2 in the book \"Matematik för yrkeshögskolan\". "
   ]
  },
  {
   "cell_type": "code",
   "execution_count": 239,
   "id": "65371610-16e1-48b2-b7fb-65e49002608a",
   "metadata": {},
   "outputs": [
    {
     "name": "stdout",
     "output_type": "stream",
     "text": [
      "10.2.1\n",
      "a:\n",
      " [[ 4  2 -2]\n",
      " [ 2 -2  2]]\n",
      "b:\n",
      " [[ 0 -4  3]\n",
      " [ 0 -2 -4]]\n",
      "c: Not defined\n",
      "d:\n",
      " [[3 2]\n",
      " [2 3]]\n",
      "e:\n",
      " [[-3 -4]\n",
      " [-4 -3]]\n",
      "f:\n",
      " [[-4 -4]\n",
      " [-4 -4]]\n",
      "g: Not defined\n",
      "h: Not defined\n",
      "i:\n",
      " [[11 10]\n",
      " [10 11]]\n",
      "j:\n",
      " [[  8 -10  -3]\n",
      " [ 10  -8   0]]\n",
      "k:\n",
      " [[1 2]\n",
      " [2 1]]\n",
      "l:\n",
      " [[5 2]\n",
      " [7 4]]\n",
      "\n",
      "\n",
      "10.2.2\n",
      "[[29 26]\n",
      " [26 42]]\n",
      "\n",
      "\n",
      "10.2.3\n",
      "True\n"
     ]
    }
   ],
   "source": [
    "## 10.2.1\n",
    "print(\"10.2.1\")\n",
    "\n",
    "A = np.array([[2, 1, -1], [1, -1, 1]])\n",
    "B = np.array([[4, -2, 1], [2, -4, -2]])\n",
    "C = np.array([[1, 2], [2, 1]])\n",
    "D = np.array([[3, 4], [4, 3]])\n",
    "E = np.array([[1], [2]])\n",
    "I = np.array([[1, 0], [0, 1]])\n",
    "\n",
    "# a \n",
    "print(f\"a:\\n {2 * A}\")\n",
    "\n",
    "# b \n",
    "print(f\"b:\\n {B -2*A}\")\n",
    "\n",
    "# c Not defined\n",
    "print(\"c: Not defined\")\n",
    "\n",
    "# d \n",
    "print(f\"d:\\n {2*D - 3*C}\")\n",
    "\n",
    "# e \n",
    "print(f\"e:\\n {D.T - 2*D}\")\n",
    "\n",
    "# f \n",
    "print(f\"f:\\n {2*C.T - 2*D.T}\")\n",
    "\n",
    "# g Not defined\n",
    "print(\"g: Not defined\") \n",
    "\n",
    "# h Not defined\n",
    "print(\"h: Not defined\")\n",
    "\n",
    "# i \n",
    "print(f\"i:\\n {C @ D}\")\n",
    "\n",
    "# j\n",
    "print(f\"j:\\n {C @ B}\")\n",
    "\n",
    "# k\n",
    "print(f\"k:\\n {C @ I}\")\n",
    "\n",
    "# l\n",
    "print(f\"l:\\n {A @ B.T}\")\n",
    "\n",
    "print(\"\\n\")\n",
    "## 10.2.2\n",
    "print(\"10.2.2\")\n",
    "\n",
    "A = np.array([[2, 3, 4], [5, 4, 1]])\n",
    "\n",
    "print(A @ A.T)\n",
    "\n",
    "print(\"\\n\")\n",
    "## 10.2.3\n",
    "print(\"10.2.3\")\n",
    "\n",
    "A = np.array([[1, 2], [2, 4]])\n",
    "B = np.array([[2, 1], [1, 3]])\n",
    "C = np.array([[4, 3], [0, 2]])\n",
    "\n",
    "print(np.array_equal(A @ B, A @ C))"
   ]
  },
  {
   "cell_type": "markdown",
   "id": "6a4a524f",
   "metadata": {},
   "source": [
    "### Copies and Views\n",
    "Read the following link: https://numpy.org/doc/stable/user/basics.copies.html"
   ]
  },
  {
   "cell_type": "markdown",
   "id": "6cbbeaf7",
   "metadata": {},
   "source": [
    "**Basic indexing creates a view, How can you check if v1 and v2 is a view or copy? If you change the last element in v2 to 123, will the last element in v1 be changed? Why?**"
   ]
  },
  {
   "cell_type": "code",
   "execution_count": 160,
   "id": "5b9ef4df",
   "metadata": {},
   "outputs": [
    {
     "name": "stdout",
     "output_type": "stream",
     "text": [
      "[0 1 2 3]\n",
      "[2 3]\n"
     ]
    }
   ],
   "source": [
    "v1 = np.arange(4)\n",
    "v2 = v1[-2:]\n",
    "print(v1)\n",
    "print(v2)"
   ]
  },
  {
   "cell_type": "code",
   "execution_count": 158,
   "id": "d2440489",
   "metadata": {},
   "outputs": [
    {
     "name": "stdout",
     "output_type": "stream",
     "text": [
      "None\n",
      "[  0   1   2 123]\n"
     ]
    }
   ],
   "source": [
    "# The base attribute of a view returns the original array while it returns None for a copy.\n",
    "print(v1.base)\n",
    "print(v2.base)"
   ]
  },
  {
   "cell_type": "code",
   "execution_count": 159,
   "id": "c8752807",
   "metadata": {},
   "outputs": [
    {
     "name": "stdout",
     "output_type": "stream",
     "text": [
      "[  0   1   2 123]\n",
      "[  2 123]\n"
     ]
    }
   ],
   "source": [
    "# The last element in v1 will be changed aswell since v2 is a view, meaning they share the same data buffer.\n",
    "v2[-1] = 123\n",
    "print(v1)\n",
    "print(v2)"
   ]
  },
  {
   "cell_type": "code",
   "execution_count": null,
   "id": "3dd68221",
   "metadata": {},
   "outputs": [],
   "source": []
  }
 ],
 "metadata": {
  "kernelspec": {
   "display_name": "base",
   "language": "python",
   "name": "python3"
  },
  "language_info": {
   "codemirror_mode": {
    "name": "ipython",
    "version": 3
   },
   "file_extension": ".py",
   "mimetype": "text/x-python",
   "name": "python",
   "nbconvert_exporter": "python",
   "pygments_lexer": "ipython3",
   "version": "3.12.4"
  }
 },
 "nbformat": 4,
 "nbformat_minor": 5
}
